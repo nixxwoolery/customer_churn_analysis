{
 "cells": [
  {
   "cell_type": "code",
   "execution_count": 1,
   "id": "8d347d10",
   "metadata": {},
   "outputs": [],
   "source": [
    "\n",
    "# Data handling\n",
    "import pandas as pd\n",
    "import numpy as np\n",
    "\n",
    "# Data visualisation\n",
    "import matplotlib.pyplot as plt\n",
    "import seaborn as sns\n",
    "\n",
    "#Clustering & Classification\n",
    "from sklearn.cluster import KMeans\n",
    "from sklearn.ensemble import RandomForestClassifier\n",
    "from sklearn.metrics import accuracy_score\n",
    "from sklearn.compose import ColumnTransformer\n",
    "from sklearn.metrics import accuracy_score, precision_score, recall_score, f1_score, classification_report\n",
    "from sklearn.model_selection import train_test_split\n",
    "\n",
    "import random\n",
    "\n",
    "# Ignore warnings\n",
    "import warnings\n",
    "warnings.filterwarnings('ignore')"
   ]
  },
  {
   "cell_type": "code",
   "execution_count": 2,
   "id": "90becd49",
   "metadata": {},
   "outputs": [
    {
     "ename": "FileNotFoundError",
     "evalue": "[Errno 2] No such file or directory: 'BankChurnersTrain.xls'",
     "output_type": "error",
     "traceback": [
      "\u001b[0;31m---------------------------------------------------------------------------\u001b[0m",
      "\u001b[0;31mFileNotFoundError\u001b[0m                         Traceback (most recent call last)",
      "Cell \u001b[0;32mIn[2], line 2\u001b[0m\n\u001b[1;32m      1\u001b[0m \u001b[38;5;66;03m#import testing and training datasets\u001b[39;00m\n\u001b[0;32m----> 2\u001b[0m df_train \u001b[38;5;241m=\u001b[39m pd\u001b[38;5;241m.\u001b[39mread_excel(\u001b[38;5;124m'\u001b[39m\u001b[38;5;124mBankChurnersTrain.xls\u001b[39m\u001b[38;5;124m'\u001b[39m)\n\u001b[1;32m      3\u001b[0m df_test \u001b[38;5;241m=\u001b[39m pd\u001b[38;5;241m.\u001b[39mread_excel(\u001b[38;5;124m'\u001b[39m\u001b[38;5;124mBankChurnersTest.xls\u001b[39m\u001b[38;5;124m'\u001b[39m)\n",
      "File \u001b[0;32m~/anaconda3/lib/python3.11/site-packages/pandas/io/excel/_base.py:478\u001b[0m, in \u001b[0;36mread_excel\u001b[0;34m(io, sheet_name, header, names, index_col, usecols, dtype, engine, converters, true_values, false_values, skiprows, nrows, na_values, keep_default_na, na_filter, verbose, parse_dates, date_parser, date_format, thousands, decimal, comment, skipfooter, storage_options, dtype_backend)\u001b[0m\n\u001b[1;32m    476\u001b[0m \u001b[38;5;28;01mif\u001b[39;00m \u001b[38;5;129;01mnot\u001b[39;00m \u001b[38;5;28misinstance\u001b[39m(io, ExcelFile):\n\u001b[1;32m    477\u001b[0m     should_close \u001b[38;5;241m=\u001b[39m \u001b[38;5;28;01mTrue\u001b[39;00m\n\u001b[0;32m--> 478\u001b[0m     io \u001b[38;5;241m=\u001b[39m ExcelFile(io, storage_options\u001b[38;5;241m=\u001b[39mstorage_options, engine\u001b[38;5;241m=\u001b[39mengine)\n\u001b[1;32m    479\u001b[0m \u001b[38;5;28;01melif\u001b[39;00m engine \u001b[38;5;129;01mand\u001b[39;00m engine \u001b[38;5;241m!=\u001b[39m io\u001b[38;5;241m.\u001b[39mengine:\n\u001b[1;32m    480\u001b[0m     \u001b[38;5;28;01mraise\u001b[39;00m \u001b[38;5;167;01mValueError\u001b[39;00m(\n\u001b[1;32m    481\u001b[0m         \u001b[38;5;124m\"\u001b[39m\u001b[38;5;124mEngine should not be specified when passing \u001b[39m\u001b[38;5;124m\"\u001b[39m\n\u001b[1;32m    482\u001b[0m         \u001b[38;5;124m\"\u001b[39m\u001b[38;5;124man ExcelFile - ExcelFile already has the engine set\u001b[39m\u001b[38;5;124m\"\u001b[39m\n\u001b[1;32m    483\u001b[0m     )\n",
      "File \u001b[0;32m~/anaconda3/lib/python3.11/site-packages/pandas/io/excel/_base.py:1496\u001b[0m, in \u001b[0;36mExcelFile.__init__\u001b[0;34m(self, path_or_buffer, engine, storage_options)\u001b[0m\n\u001b[1;32m   1494\u001b[0m     ext \u001b[38;5;241m=\u001b[39m \u001b[38;5;124m\"\u001b[39m\u001b[38;5;124mxls\u001b[39m\u001b[38;5;124m\"\u001b[39m\n\u001b[1;32m   1495\u001b[0m \u001b[38;5;28;01melse\u001b[39;00m:\n\u001b[0;32m-> 1496\u001b[0m     ext \u001b[38;5;241m=\u001b[39m inspect_excel_format(\n\u001b[1;32m   1497\u001b[0m         content_or_path\u001b[38;5;241m=\u001b[39mpath_or_buffer, storage_options\u001b[38;5;241m=\u001b[39mstorage_options\n\u001b[1;32m   1498\u001b[0m     )\n\u001b[1;32m   1499\u001b[0m     \u001b[38;5;28;01mif\u001b[39;00m ext \u001b[38;5;129;01mis\u001b[39;00m \u001b[38;5;28;01mNone\u001b[39;00m:\n\u001b[1;32m   1500\u001b[0m         \u001b[38;5;28;01mraise\u001b[39;00m \u001b[38;5;167;01mValueError\u001b[39;00m(\n\u001b[1;32m   1501\u001b[0m             \u001b[38;5;124m\"\u001b[39m\u001b[38;5;124mExcel file format cannot be determined, you must specify \u001b[39m\u001b[38;5;124m\"\u001b[39m\n\u001b[1;32m   1502\u001b[0m             \u001b[38;5;124m\"\u001b[39m\u001b[38;5;124man engine manually.\u001b[39m\u001b[38;5;124m\"\u001b[39m\n\u001b[1;32m   1503\u001b[0m         )\n",
      "File \u001b[0;32m~/anaconda3/lib/python3.11/site-packages/pandas/io/excel/_base.py:1371\u001b[0m, in \u001b[0;36minspect_excel_format\u001b[0;34m(content_or_path, storage_options)\u001b[0m\n\u001b[1;32m   1368\u001b[0m \u001b[38;5;28;01mif\u001b[39;00m \u001b[38;5;28misinstance\u001b[39m(content_or_path, \u001b[38;5;28mbytes\u001b[39m):\n\u001b[1;32m   1369\u001b[0m     content_or_path \u001b[38;5;241m=\u001b[39m BytesIO(content_or_path)\n\u001b[0;32m-> 1371\u001b[0m \u001b[38;5;28;01mwith\u001b[39;00m get_handle(\n\u001b[1;32m   1372\u001b[0m     content_or_path, \u001b[38;5;124m\"\u001b[39m\u001b[38;5;124mrb\u001b[39m\u001b[38;5;124m\"\u001b[39m, storage_options\u001b[38;5;241m=\u001b[39mstorage_options, is_text\u001b[38;5;241m=\u001b[39m\u001b[38;5;28;01mFalse\u001b[39;00m\n\u001b[1;32m   1373\u001b[0m ) \u001b[38;5;28;01mas\u001b[39;00m handle:\n\u001b[1;32m   1374\u001b[0m     stream \u001b[38;5;241m=\u001b[39m handle\u001b[38;5;241m.\u001b[39mhandle\n\u001b[1;32m   1375\u001b[0m     stream\u001b[38;5;241m.\u001b[39mseek(\u001b[38;5;241m0\u001b[39m)\n",
      "File \u001b[0;32m~/anaconda3/lib/python3.11/site-packages/pandas/io/common.py:868\u001b[0m, in \u001b[0;36mget_handle\u001b[0;34m(path_or_buf, mode, encoding, compression, memory_map, is_text, errors, storage_options)\u001b[0m\n\u001b[1;32m    859\u001b[0m         handle \u001b[38;5;241m=\u001b[39m \u001b[38;5;28mopen\u001b[39m(\n\u001b[1;32m    860\u001b[0m             handle,\n\u001b[1;32m    861\u001b[0m             ioargs\u001b[38;5;241m.\u001b[39mmode,\n\u001b[0;32m   (...)\u001b[0m\n\u001b[1;32m    864\u001b[0m             newline\u001b[38;5;241m=\u001b[39m\u001b[38;5;124m\"\u001b[39m\u001b[38;5;124m\"\u001b[39m,\n\u001b[1;32m    865\u001b[0m         )\n\u001b[1;32m    866\u001b[0m     \u001b[38;5;28;01melse\u001b[39;00m:\n\u001b[1;32m    867\u001b[0m         \u001b[38;5;66;03m# Binary mode\u001b[39;00m\n\u001b[0;32m--> 868\u001b[0m         handle \u001b[38;5;241m=\u001b[39m \u001b[38;5;28mopen\u001b[39m(handle, ioargs\u001b[38;5;241m.\u001b[39mmode)\n\u001b[1;32m    869\u001b[0m     handles\u001b[38;5;241m.\u001b[39mappend(handle)\n\u001b[1;32m    871\u001b[0m \u001b[38;5;66;03m# Convert BytesIO or file objects passed with an encoding\u001b[39;00m\n",
      "\u001b[0;31mFileNotFoundError\u001b[0m: [Errno 2] No such file or directory: 'BankChurnersTrain.xls'"
     ]
    }
   ],
   "source": [
    "#import testing and training datasets\n",
    "df_train = pd.read_excel('BankChurnersTrain.xls')\n",
    "df_test = pd.read_excel('BankChurnersTest.xls')"
   ]
  },
  {
   "cell_type": "code",
   "execution_count": null,
   "id": "a26f342f",
   "metadata": {},
   "outputs": [],
   "source": [
    "df_combined = pd.concat([df_test, df_train])"
   ]
  },
  {
   "cell_type": "code",
   "execution_count": null,
   "id": "f40917e3",
   "metadata": {},
   "outputs": [],
   "source": [
    "df_combined.head()"
   ]
  },
  {
   "cell_type": "markdown",
   "id": "a488417c",
   "metadata": {},
   "source": [
    "# Data Exploration "
   ]
  },
  {
   "cell_type": "code",
   "execution_count": null,
   "id": "08bcf907",
   "metadata": {},
   "outputs": [],
   "source": [
    "df_combined.dtypes"
   ]
  },
  {
   "cell_type": "code",
   "execution_count": null,
   "id": "85f2f7f1",
   "metadata": {},
   "outputs": [],
   "source": [
    "df_combined.describe()"
   ]
  },
  {
   "cell_type": "code",
   "execution_count": null,
   "id": "f02b53c5",
   "metadata": {},
   "outputs": [],
   "source": [
    "df_combined.isnull().sum()"
   ]
  },
  {
   "cell_type": "code",
   "execution_count": null,
   "id": "7e59a055",
   "metadata": {},
   "outputs": [],
   "source": [
    "#Data Cleaning"
   ]
  },
  {
   "cell_type": "code",
   "execution_count": null,
   "id": "edac432f",
   "metadata": {},
   "outputs": [],
   "source": [
    "#Handling missing values and input with mean\n",
    "df_combined.fillna(df_combined.mean(), inplace=True)"
   ]
  },
  {
   "cell_type": "code",
   "execution_count": null,
   "id": "93e86d0a",
   "metadata": {},
   "outputs": [],
   "source": [
    "# Drop irrelevant columns\n",
    "drop_columns = ['CCNum', 'Trans_date_Time', 'Surname']\n",
    "df_combined=df_test.drop(labels=drop_columns, axis =1)"
   ]
  },
  {
   "cell_type": "code",
   "execution_count": null,
   "id": "315ff1f9",
   "metadata": {},
   "outputs": [],
   "source": [
    "object_columns = ['Attrition_Flag', 'Gender', 'Geography', 'Education_Level', 'Income_Category', 'Card_Category']"
   ]
  },
  {
   "cell_type": "code",
   "execution_count": null,
   "id": "42142043",
   "metadata": {},
   "outputs": [],
   "source": [
    "# Define mappings for object to int conversion\n",
    "mapping = {\n",
    "    'Attrition_Flag': {'Attrited Customer': 1, 'Existing Customer': 0},\n",
    "    'Gender': {'F': 0, 'M': 1},\n",
    "    'Geography': {'France': 0, 'Germany': 1, 'Spain': 2},\n",
    "    'Education_Level': {'Unknown': 0, 'Uneducated': 1, 'High School': 2, 'College': 3, 'Graduate': 4, 'Post-Graduate': 5, 'Doctorate': 6},\n",
    "    'Income_Category': {'Unknown': 0, 'Less than $40K': 1, '$40K - $60K': 2, '$60K - $80K': 3, '$80K - $120K': 4, '$120K +': 5},\n",
    "    'Card_Category': {'Blue': 0, 'Silver': 1, 'Gold': 2, 'Platinum': 3}\n",
    "}"
   ]
  },
  {
   "cell_type": "code",
   "execution_count": null,
   "id": "68634c23",
   "metadata": {},
   "outputs": [],
   "source": [
    "for column in object_columns:\n",
    "    df_combined[column] = df_combined[column].map(mapping[column]).astype(int)"
   ]
  },
  {
   "cell_type": "code",
   "execution_count": null,
   "id": "9150afcc",
   "metadata": {},
   "outputs": [],
   "source": [
    "print(df_combined.dtypes)"
   ]
  },
  {
   "cell_type": "code",
   "execution_count": null,
   "id": "38b41db5",
   "metadata": {},
   "outputs": [],
   "source": [
    "df_combined.head()"
   ]
  },
  {
   "cell_type": "code",
   "execution_count": null,
   "id": "e36e67dd",
   "metadata": {},
   "outputs": [],
   "source": [
    "columns = ['Age',\n",
    "       'Gender', 'Geography', 'Tenure', 'Education_Level',\n",
    "       'Income_Category', 'Card_Category', 'NumOfProducts', 'HasCrCard',\n",
    "       'IsActiveMember', 'EstimatedSalary', 'is_fraud', 'Exited']\n",
    "\n",
    "for i in columns:\n",
    "    plt.figure()\n",
    "    sns.distplot(df_combined[i]);"
   ]
  },
  {
   "cell_type": "code",
   "execution_count": null,
   "id": "c5c1c6be",
   "metadata": {},
   "outputs": [],
   "source": [
    "#Churn Frequency by country\n",
    "pd.crosstab(df_combined.Geography, df_combined.Attrition_Flag).plot(kind='bar')\n",
    "plt.title('Customer Attrition Frequency by Country')\n",
    "plt.xlabel('Country')\n",
    "plt.ylabel('Attrition Frequency')"
   ]
  },
  {
   "cell_type": "code",
   "execution_count": null,
   "id": "fee91331",
   "metadata": {},
   "outputs": [],
   "source": [
    "columns = ['Age',\n",
    "       'Gender', 'Geography', 'Tenure', 'Education_Level',\n",
    "       'Income_Category', 'Card_Category', 'NumOfProducts', 'HasCrCard',\n",
    "       'IsActiveMember', 'EstimatedSalary', 'is_fraud', 'Exited']\n",
    "\n",
    "for i in columns:\n",
    "    plt.figure()\n",
    "    pd.crosstab(df_combined[i], df_combined.Attrition_Flag).plot(kind='bar');"
   ]
  },
  {
   "cell_type": "code",
   "execution_count": null,
   "id": "313e40c3",
   "metadata": {},
   "outputs": [],
   "source": [
    "df_combined['Attrition_Flag'].value_counts()"
   ]
  },
  {
   "cell_type": "code",
   "execution_count": null,
   "id": "3c20e076",
   "metadata": {},
   "outputs": [],
   "source": [
    "sns.histplot(df_combined['Attrition_Flag'])"
   ]
  },
  {
   "cell_type": "code",
   "execution_count": null,
   "id": "e546be00",
   "metadata": {},
   "outputs": [],
   "source": [
    "attrited_customers = df_combined[df_combined['Attrition_Flag']== 1]\n",
    "attrited_customers"
   ]
  },
  {
   "cell_type": "code",
   "execution_count": null,
   "id": "c2688ce1",
   "metadata": {},
   "outputs": [],
   "source": []
  },
  {
   "cell_type": "code",
   "execution_count": null,
   "id": "d5ec9061",
   "metadata": {},
   "outputs": [],
   "source": [
    "# Create an instance of the Random Forest classifier\n",
    "rf_classifier = RandomForestClassifier()"
   ]
  },
  {
   "cell_type": "code",
   "execution_count": null,
   "id": "97065f15",
   "metadata": {},
   "outputs": [],
   "source": [
    "# Extract the input features from the training data\n",
    "X_train = df_combined.drop('Attrition_Flag', axis=1)"
   ]
  },
  {
   "cell_type": "code",
   "execution_count": null,
   "id": "615aefcd",
   "metadata": {},
   "outputs": [],
   "source": [
    "# Extract the target labels from the training data\n",
    "y_train = df_combined['Attrition_Flag']"
   ]
  },
  {
   "cell_type": "code",
   "execution_count": null,
   "id": "25659532",
   "metadata": {},
   "outputs": [],
   "source": [
    "# Train the classifier on the training data\n",
    "rf_classifier.fit(X_train, y_train)"
   ]
  },
  {
   "cell_type": "code",
   "execution_count": null,
   "id": "62ccd7ea",
   "metadata": {},
   "outputs": [],
   "source": [
    "# Target variable\n",
    "X = df_combined.drop('Attrition_Flag', axis=1)\n",
    "y = df_combined['Attrition_Flag']"
   ]
  },
  {
   "cell_type": "code",
   "execution_count": null,
   "id": "472dc7a3",
   "metadata": {},
   "outputs": [],
   "source": [
    "# Split the data into training and testing sets\n",
    "X_train, X_test, y_train, y_test = train_test_split(X, y, test_size=0.2, random_state=42)"
   ]
  },
  {
   "cell_type": "code",
   "execution_count": null,
   "id": "ed566fd5",
   "metadata": {},
   "outputs": [],
   "source": [
    "# Make predictions on the test data\n",
    "y_pred = rf_classifier.predict(X_test)"
   ]
  },
  {
   "cell_type": "code",
   "execution_count": null,
   "id": "340baddb",
   "metadata": {},
   "outputs": [],
   "source": [
    "# Visualise the feature importance\n",
    "d = {'Columns': X_train.columns, 'Feature Importance': rf_classifier.feature_importances_}\n",
    "high_attrition = pd.DataFrame(d)\n",
    "high_attrition_sorted = high_attrition.sort_values(by='Feature Importance', ascending = False)\n",
    "high_attrition_sorted\n",
    "high_attrition_sorted.style.background_gradient(cmap='Blues')"
   ]
  },
  {
   "cell_type": "code",
   "execution_count": null,
   "id": "b6b21518",
   "metadata": {},
   "outputs": [],
   "source": [
    "high_attrition_attributes = ['Total_Trans_Ct', 'Total_Trans_Amt', 'Credit_Limit', 'EstimatedSalary', 'Age', 'CreditScore', 'Balance', 'Tenure']"
   ]
  },
  {
   "cell_type": "code",
   "execution_count": null,
   "id": "6a037383",
   "metadata": {},
   "outputs": [],
   "source": [
    "df_combined.columns"
   ]
  },
  {
   "cell_type": "code",
   "execution_count": null,
   "id": "f269b1c0",
   "metadata": {},
   "outputs": [],
   "source": [
    "# Filter the dataset based on the high attrition attributes\n",
    "high_attrition_df = df_combined[high_attrition_attributes]\n",
    "high_attrition_df.head()"
   ]
  },
  {
   "cell_type": "code",
   "execution_count": null,
   "id": "87a20a8b",
   "metadata": {},
   "outputs": [],
   "source": [
    "#create customer profiles based on high attrition attributes\n",
    "number_of_clusters = 3\n",
    "customer_profiles = {}\n",
    "for i in range (0, len(high_attrition_attributes), number_of_clusters):\n",
    "    attribute_list = []\n",
    "    for attribute in high_attrition_attributes[i:i + number_of_clusters]:\n",
    "        attribute_list.append(attribute)\n",
    "        customer_profiles[i] = attribute_list\n",
    "\n",
    "# Generate a new attribute\n",
    "new_attribute = random.choice(high_attrition_attributes)\n",
    "\n",
    "# Check if the new attribute is already in the list\n",
    "while new_attribute in customer_profiles[6]:\n",
    "    new_attribute = random.choice(high_attrition_attributes)\n",
    "\n",
    "# Add the new attribute to the list\n",
    "customer_profiles[6].append(new_attribute)\n",
    "        \n",
    "customer_profiles"
   ]
  },
  {
   "cell_type": "code",
   "execution_count": null,
   "id": "4827b636",
   "metadata": {},
   "outputs": [],
   "source": [
    "attrition_rate = df_combined['Attrition_Flag'].value_counts(normalize=True)[1]\n",
    "attrition_rate"
   ]
  },
  {
   "cell_type": "code",
   "execution_count": null,
   "id": "9fdfeb23",
   "metadata": {},
   "outputs": [],
   "source": [
    "attrition_rates= []"
   ]
  },
  {
   "cell_type": "code",
   "execution_count": null,
   "id": "b9f55375",
   "metadata": {},
   "outputs": [],
   "source": [
    "for profile, attributes in customer_profiles.items():\n",
    "    profile_data = df_combined.loc[df_combined[attributes].all(axis=1)]\n",
    "    profile_attrition_rate = profile_data['Attrition_Flag'].value_counts(normalize=True).get(1, 0)\n",
    "    attrition_rates.append(profile_attrition_rate)\n",
    "    \n",
    "attrition_rates"
   ]
  },
  {
   "cell_type": "code",
   "execution_count": null,
   "id": "7c799c24",
   "metadata": {},
   "outputs": [],
   "source": [
    "#calculate the churn rate for each customer\n",
    "attrition_rate = df_combined[\"Attrition_Flag\"].mean()\n",
    "attrition_rate"
   ]
  },
  {
   "cell_type": "code",
   "execution_count": null,
   "id": "526be9a1",
   "metadata": {},
   "outputs": [],
   "source": [
    "df_combined[\"Attrition_Risk\"] = np.where(df_combined[\"Attrition_Flag\"] == 1, \"High\", \"Low\")"
   ]
  },
  {
   "cell_type": "code",
   "execution_count": null,
   "id": "9b576ae7",
   "metadata": {},
   "outputs": [],
   "source": [
    "#customers most likely to churn\n",
    "df_combined = df_combined.sort_values(\"Attrition_Risk\", ascending = False)"
   ]
  },
  {
   "cell_type": "code",
   "execution_count": null,
   "id": "faf0fcf1",
   "metadata": {},
   "outputs": [],
   "source": [
    "df_combined.head()"
   ]
  },
  {
   "cell_type": "code",
   "execution_count": null,
   "id": "a03029b8",
   "metadata": {},
   "outputs": [],
   "source": [
    "print(f\"Profile {profile}:\")\n",
    "print(f\"Attributes: {attributes}\")\n",
    "print(f\"Attrition Rate: {profile_attrition_rate:.2%}\")"
   ]
  },
  {
   "cell_type": "code",
   "execution_count": null,
   "id": "14779db8",
   "metadata": {},
   "outputs": [],
   "source": [
    "# Plotting the attrition rates\n",
    "plt.figure(figsize=(8, 6))\n",
    "plt.bar(range(len(attrition_rates)), attrition_rates)\n",
    "plt.xlabel('Profile')\n",
    "plt.ylabel('Attrition Rate')\n",
    "plt.title('Attrition Rate by Customer Profiles')\n",
    "plt.xticks(range(len(attrition_rates)), [f\"Profile {profile}\" for profile in customer_profiles.keys()])\n",
    "plt.show()"
   ]
  },
  {
   "cell_type": "code",
   "execution_count": null,
   "id": "69d17f28",
   "metadata": {},
   "outputs": [],
   "source": [
    "# Sort the dataframe by highest risk of attrition in descending order\n",
    "high_attrition_customers_df = df_combined.sort_values(by=\"Attrition_Risk\", ascending=True)\n",
    "\n",
    "# Print the sorted dataframe\n",
    "print(high_attrition_customers_df)"
   ]
  },
  {
   "cell_type": "code",
   "execution_count": null,
   "id": "74d0901b",
   "metadata": {},
   "outputs": [],
   "source": [
    "# Visualise clusters - Create a KMeans object with 3 clusters\n",
    "kmeans = KMeans(n_clusters = 3, n_init = 20)"
   ]
  },
  {
   "cell_type": "code",
   "execution_count": null,
   "id": "861fdd3d",
   "metadata": {},
   "outputs": [],
   "source": [
    "# Fit the KMeans model to the high attrition data\n",
    "kmeans.fit(high_attrition_df[high_attrition_attributes])"
   ]
  },
  {
   "cell_type": "code",
   "execution_count": null,
   "id": "ec7de6bb",
   "metadata": {},
   "outputs": [],
   "source": [
    "# Get the cluster labels for each data point\n",
    "cluster_labels = kmeans.labels_\n",
    "cluster_labels"
   ]
  },
  {
   "cell_type": "code",
   "execution_count": null,
   "id": "3de5bd52",
   "metadata": {},
   "outputs": [],
   "source": [
    "# Create a scatter plot of the data points, coloured by cluster label\n",
    "plt.scatter(high_attrition_df['Total_Trans_Ct'], high_attrition_df['Total_Trans_Amt'], c=cluster_labels)\n",
    "plt.title('Customer Churn Clusters')\n",
    "plt.xlabel('Total_Trans_Ct')\n",
    "plt.ylabel('Total_Trans_Amt')\n",
    "plt.show()"
   ]
  },
  {
   "cell_type": "code",
   "execution_count": null,
   "id": "8e00912d",
   "metadata": {},
   "outputs": [],
   "source": []
  },
  {
   "cell_type": "code",
   "execution_count": null,
   "id": "c0a9dcf2",
   "metadata": {},
   "outputs": [],
   "source": [
    "# Churn Scrutiny"
   ]
  },
  {
   "cell_type": "code",
   "execution_count": null,
   "id": "2664c553",
   "metadata": {},
   "outputs": [],
   "source": [
    "# Plot the relationship between balance and tenure.\n",
    "plt.scatter(df_train[\"Balance\"], df_train[\"Tenure\"])\n",
    "plt.title(\"Balance vs. Tenure\")\n",
    "plt.xlabel(\"Balance\")\n",
    "plt.ylabel(\"Tenure\")\n",
    "plt.show()"
   ]
  },
  {
   "cell_type": "code",
   "execution_count": null,
   "id": "da4e45d6",
   "metadata": {},
   "outputs": [],
   "source": [
    "# Calculate the correlation coefficient between balance and tenure.\n",
    "correlation = np.corrcoef(df_combined[\"Balance\"], df_combined[\"Tenure\"])[0, 1]\n",
    "print(\"The correlation coefficient between balance and tenure is\", correlation.round(4))"
   ]
  },
  {
   "cell_type": "code",
   "execution_count": null,
   "id": "24f72805",
   "metadata": {},
   "outputs": [],
   "source": [
    "df_train.corr(method=\"pearson\")"
   ]
  },
  {
   "cell_type": "code",
   "execution_count": null,
   "id": "fcb13ed0",
   "metadata": {},
   "outputs": [],
   "source": [
    "correlation_matrix = df_train.corr()"
   ]
  },
  {
   "cell_type": "code",
   "execution_count": null,
   "id": "ca3fb1dd",
   "metadata": {},
   "outputs": [],
   "source": [
    "correlation_matrix.describe()"
   ]
  },
  {
   "cell_type": "code",
   "execution_count": null,
   "id": "4573bb35",
   "metadata": {},
   "outputs": [],
   "source": [
    "#threshold for strong relationships\n",
    "threshold = 0.7"
   ]
  },
  {
   "cell_type": "code",
   "execution_count": null,
   "id": "42195c25",
   "metadata": {},
   "outputs": [],
   "source": [
    "strong_relationships = []\n",
    "# Filter the correlation matrix to identify strongly correlated attributes\n",
    "strong_correlations = correlation_matrix[abs(correlation_matrix) >= 0.7]\n",
    "strong_correlations = strong_correlations.unstack().dropna().sort_values(ascending=False)"
   ]
  },
  {
   "cell_type": "code",
   "execution_count": null,
   "id": "2edce3e0",
   "metadata": {},
   "outputs": [],
   "source": [
    "print(\"Strongly correlated attribute pairs:\")\n",
    "print(strong_correlations)"
   ]
  },
  {
   "cell_type": "code",
   "execution_count": null,
   "id": "0931cc0b",
   "metadata": {},
   "outputs": [],
   "source": [
    "plt.figure(figsize=(10,15))\n",
    "sns.heatmap(df_train.corr(), annot= True, cmap = 'coolwarm')\n",
    "plt.title(\"Correlation Matrix for Attributes\")"
   ]
  },
  {
   "cell_type": "code",
   "execution_count": null,
   "id": "b128cb72",
   "metadata": {},
   "outputs": [],
   "source": [
    "for i in range (len(correlation_matrix.columns)):\n",
    "    for j in range(i+1, len(correlation_matrix.columns)):\n",
    "        if abs(correlation_matrix.iloc[i,j]) >= threshold:\n",
    "            strong_relationships.append((correlation_matrix.columns[i], correlation_matrix.columns[j]))"
   ]
  },
  {
   "cell_type": "code",
   "execution_count": null,
   "id": "2bf4f6ad",
   "metadata": {},
   "outputs": [],
   "source": [
    "for attribute_pair in strong_relationships:\n",
    "    print(\"Strong relationship between\", attribute_pair[0], \"and\", attribute_pair[1])"
   ]
  },
  {
   "cell_type": "code",
   "execution_count": null,
   "id": "cee31974",
   "metadata": {},
   "outputs": [],
   "source": [
    "#Sort the high-value targets by balance\n",
    "high_value_attributes = correlation_matrix[\"Balance\"].sort_values(ascending=False).index[:5]"
   ]
  },
  {
   "cell_type": "code",
   "execution_count": null,
   "id": "9c9c2ee9",
   "metadata": {},
   "outputs": [],
   "source": [
    "#Print the high-value attributes\n",
    "print(high_value_attributes)"
   ]
  },
  {
   "cell_type": "code",
   "execution_count": null,
   "id": "9fb55a92",
   "metadata": {},
   "outputs": [],
   "source": [
    "#Identify the high-value targets\n",
    "high_value_targets = df_train[df_train[high_value_attributes].max(axis=1) > 175000]"
   ]
  },
  {
   "cell_type": "code",
   "execution_count": null,
   "id": "57c1f9c4",
   "metadata": {},
   "outputs": [],
   "source": [
    "# Calculate and print the evaluation metrics\n",
    "accuracy = accuracy_score(y_test, y_pred)\n",
    "precision = precision_score(y_test, y_pred)\n",
    "recall = recall_score(y_test, y_pred)\n",
    "f1 = f1_score(y_test, y_pred)\n",
    "\n",
    "print(\"Accuracy:\", accuracy)\n",
    "print(\"Precision:\", precision)\n",
    "print(\"Recall:\", recall)\n",
    "print(\"F1 Score:\", f1)"
   ]
  },
  {
   "cell_type": "code",
   "execution_count": null,
   "id": "2cd5620b",
   "metadata": {},
   "outputs": [],
   "source": [
    "# Generate the classification report\n",
    "report = classification_report(y_test, y_pred)\n",
    "print(\"Classification Report:\")\n",
    "print(report)"
   ]
  },
  {
   "cell_type": "code",
   "execution_count": null,
   "id": "1389063c",
   "metadata": {},
   "outputs": [],
   "source": []
  }
 ],
 "metadata": {
  "kernelspec": {
   "display_name": "Python 3 (ipykernel)",
   "language": "python",
   "name": "python3"
  },
  "language_info": {
   "codemirror_mode": {
    "name": "ipython",
    "version": 3
   },
   "file_extension": ".py",
   "mimetype": "text/x-python",
   "name": "python",
   "nbconvert_exporter": "python",
   "pygments_lexer": "ipython3",
   "version": "3.11.5"
  }
 },
 "nbformat": 4,
 "nbformat_minor": 5
}
